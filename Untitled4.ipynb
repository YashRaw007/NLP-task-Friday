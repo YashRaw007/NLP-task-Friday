{
 "cells": [
  {
   "cell_type": "code",
   "execution_count": 5,
   "id": "55a24e50",
   "metadata": {},
   "outputs": [],
   "source": [
    "from sklearn.feature_extraction.text import CountVectorizer\n",
    "vect = CountVectorizer(binary = True)"
   ]
  },
  {
   "cell_type": "code",
   "execution_count": 6,
   "id": "718d7ca3",
   "metadata": {},
   "outputs": [],
   "source": [
    "corpus = [\"I have a German Shepherd\", \"German Shepherd is from Germany\", \"Germans love gossiping\"]"
   ]
  },
  {
   "cell_type": "code",
   "execution_count": 7,
   "id": "765fe8ea",
   "metadata": {},
   "outputs": [
    {
     "data": {
      "text/plain": [
       "CountVectorizer(binary=True)"
      ]
     },
     "execution_count": 7,
     "metadata": {},
     "output_type": "execute_result"
    }
   ],
   "source": [
    "vect.fit(corpus)"
   ]
  },
  {
   "cell_type": "code",
   "execution_count": 8,
   "id": "6faff4e5",
   "metadata": {},
   "outputs": [],
   "source": [
    "vocab = vect.vocabulary_"
   ]
  },
  {
   "cell_type": "code",
   "execution_count": 9,
   "id": "ec3976dd",
   "metadata": {},
   "outputs": [
    {
     "name": "stdout",
     "output_type": "stream",
     "text": [
      "have:5\n",
      "german:1\n",
      "shepherd:8\n",
      "is:6\n",
      "from:0\n",
      "germany:3\n",
      "germans:2\n",
      "love:7\n",
      "gossiping:4\n"
     ]
    }
   ],
   "source": [
    "for key in vocab.keys():\n",
    "    print(\"{}:{}\".format(key,vocab[key]))"
   ]
  },
  {
   "cell_type": "code",
   "execution_count": 10,
   "id": "4fa31031",
   "metadata": {},
   "outputs": [
    {
     "name": "stdout",
     "output_type": "stream",
     "text": [
      "[[0 1 0 1 0 0 0 0 1]]\n"
     ]
    }
   ],
   "source": [
    "print(vect.transform([\"Germany has German Shepherd\"]).toarray())"
   ]
  },
  {
   "cell_type": "code",
   "execution_count": 11,
   "id": "918a9764",
   "metadata": {},
   "outputs": [],
   "source": [
    "from sklearn.metrics.pairwise import cosine_similarity\n",
    "similarity = cosine_similarity(vect.transform([\"Germany has German Shepherd\"]).toarray(), vect.transform([\"German Shepherd is from Germany\"]).toarray())"
   ]
  },
  {
   "cell_type": "code",
   "execution_count": 12,
   "id": "e18ba1bc",
   "metadata": {},
   "outputs": [
    {
     "name": "stdout",
     "output_type": "stream",
     "text": [
      "[[0.77459667]]\n"
     ]
    }
   ],
   "source": [
    "print(similarity)"
   ]
  },
  {
   "cell_type": "code",
   "execution_count": 13,
   "id": "5ec0a935",
   "metadata": {},
   "outputs": [],
   "source": [
    "article_corpus = [\"This blog provides general Common Code Remediation while migrating from XS Classic(XSC) to XS Advanced(XSA) environment using the XSA tool. The same are also applicable as concepts for manually migrating from an on-premise database to the  SAP HANA cloud. You have already started the various available paths for migrating the objects and you have enough reason and know the process step by step to do the migration manually using different methods.\", \"Direct flights from Pune to SingaporeTravellers can now fly directly between Pune and Singapore starting December 2, courtesy Vistara which will kick off three to four flights every week. International connections from Pune are rare (right now, Dubai is the sole one); visitors normally rely on Mumbai airport for the same.\", \"September inauguration for Goa’s next airportTravel to Goa could witness a cascading effect after September 2022 when Mopa international airport, the state’s second such airport after the one in Dabolim, finally opens to tourists.\", \"Schengen visa process to go digitalIn a bid to ease paperwork for millions of tourists, the EU has proposed to make the Schengen visa process an online application system in the next few years. The Schengen visa allows travellers to visit and travel across 26 EU member nations for up to 90 days.\", \"Suba aluth auwrudh dhak vewa. Puthandu vazhthukal. These are the Sinhalese and Tamil New Year greetings. ‘Aluth Avurudda’ is a festive day in Sri Lanka and I am wondering how I can recreate some elements of it being under the lockdown this year. The new year marks a new phase in the zodiac calendar with the sun moving from Meena (Pisces) to Mesha (Aries) in April.\"]"
   ]
  },
  {
   "cell_type": "code",
   "execution_count": 14,
   "id": "a9aacc17",
   "metadata": {},
   "outputs": [
    {
     "data": {
      "text/plain": [
       "CountVectorizer(binary=True)"
      ]
     },
     "execution_count": 14,
     "metadata": {},
     "output_type": "execute_result"
    }
   ],
   "source": [
    "vect.fit(article_corpus)"
   ]
  },
  {
   "cell_type": "code",
   "execution_count": 15,
   "id": "e5ecee18",
   "metadata": {},
   "outputs": [
    {
     "name": "stdout",
     "output_type": "stream",
     "text": [
      "this : 147\n",
      "blog : 27\n",
      "provides : 116\n",
      "general : 67\n",
      "common : 35\n",
      "code : 34\n",
      "remediation : 123\n",
      "while : 167\n",
      "migrating : 91\n",
      "from : 66\n",
      "xs : 172\n",
      "classic : 32\n",
      "xsc : 174\n",
      "to : 149\n",
      "advanced : 4\n",
      "xsa : 173\n",
      "environment : 56\n",
      "using : 156\n",
      "the : 145\n",
      "tool : 150\n",
      "same : 125\n",
      "are : 18\n",
      "also : 10\n",
      "applicable : 15\n",
      "as : 20\n",
      "concepts : 36\n",
      "for : 64\n",
      "manually : 85\n",
      "an : 13\n",
      "on : 105\n",
      "premise : 113\n",
      "database : 41\n",
      "sap : 126\n",
      "hana : 71\n",
      "cloud : 33\n",
      "you : 177\n",
      "have : 73\n",
      "already : 9\n",
      "started : 136\n",
      "various : 157\n",
      "available : 22\n",
      "paths : 110\n",
      "objects : 102\n",
      "and : 14\n",
      "enough : 55\n",
      "reason : 120\n",
      "know : 81\n",
      "process : 114\n",
      "step : 139\n",
      "by : 28\n",
      "do : 50\n",
      "migration : 92\n",
      "different : 46\n",
      "methods : 90\n",
      "direct : 48\n",
      "flights : 62\n",
      "pune : 117\n",
      "singaporetravellers : 131\n",
      "can : 30\n",
      "now : 101\n",
      "fly : 63\n",
      "directly : 49\n",
      "between : 25\n",
      "singapore : 130\n",
      "starting : 137\n",
      "december : 44\n",
      "courtesy : 39\n",
      "vistara : 163\n",
      "which : 166\n",
      "will : 168\n",
      "kick : 80\n",
      "off : 104\n",
      "three : 148\n",
      "four : 65\n",
      "every : 58\n",
      "week : 164\n",
      "international : 77\n",
      "connections : 37\n",
      "rare : 119\n",
      "right : 124\n",
      "dubai : 51\n",
      "is : 78\n",
      "sole : 133\n",
      "one : 106\n",
      "visitors : 162\n",
      "normally : 100\n",
      "rely : 122\n",
      "mumbai : 96\n",
      "airport : 6\n",
      "september : 129\n",
      "inauguration : 76\n",
      "goa : 69\n",
      "next : 99\n",
      "airporttravel : 7\n",
      "could : 38\n",
      "witness : 170\n",
      "cascading : 31\n",
      "effect : 53\n",
      "after : 5\n",
      "2022 : 0\n",
      "when : 165\n",
      "mopa : 94\n",
      "state : 138\n",
      "second : 128\n",
      "such : 141\n",
      "in : 75\n",
      "dabolim : 40\n",
      "finally : 61\n",
      "opens : 108\n",
      "tourists : 151\n",
      "schengen : 127\n",
      "visa : 160\n",
      "go : 68\n",
      "digitalin : 47\n",
      "bid : 26\n",
      "ease : 52\n",
      "paperwork : 109\n",
      "millions : 93\n",
      "of : 103\n",
      "eu : 57\n",
      "has : 72\n",
      "proposed : 115\n",
      "make : 84\n",
      "online : 107\n",
      "application : 16\n",
      "system : 143\n",
      "few : 60\n",
      "years : 176\n",
      "allows : 8\n",
      "travellers : 153\n",
      "visit : 161\n",
      "travel : 152\n",
      "across : 3\n",
      "26 : 1\n",
      "member : 88\n",
      "nations : 97\n",
      "up : 155\n",
      "90 : 2\n",
      "days : 43\n",
      "suba : 140\n",
      "aluth : 11\n",
      "auwrudh : 21\n",
      "dhak : 45\n",
      "vewa : 159\n",
      "puthandu : 118\n",
      "vazhthukal : 158\n",
      "these : 146\n",
      "sinhalese : 132\n",
      "tamil : 144\n",
      "new : 98\n",
      "year : 175\n",
      "greetings : 70\n",
      "avurudda : 23\n",
      "festive : 59\n",
      "day : 42\n",
      "sri : 135\n",
      "lanka : 82\n",
      "am : 12\n",
      "wondering : 171\n",
      "how : 74\n",
      "recreate : 121\n",
      "some : 134\n",
      "elements : 54\n",
      "it : 79\n",
      "being : 24\n",
      "under : 154\n",
      "lockdown : 83\n",
      "marks : 86\n",
      "phase : 111\n",
      "zodiac : 178\n",
      "calendar : 29\n",
      "with : 169\n",
      "sun : 142\n",
      "moving : 95\n",
      "meena : 87\n",
      "pisces : 112\n",
      "mesha : 89\n",
      "aries : 19\n",
      "april : 17\n"
     ]
    }
   ],
   "source": [
    "vocab = vect.vocabulary_\n",
    "for key in vocab.keys():\n",
    "    print(\"{} : {}\".format(key, vocab[key]))"
   ]
  },
  {
   "cell_type": "code",
   "execution_count": 16,
   "id": "50a239da",
   "metadata": {},
   "outputs": [],
   "source": [
    "from sklearn.metrics.pairwise import cosine_similarity\n",
    "similarity = cosine_similarity(vect.transform([\"Schengen visa process to go digitalIn a bid to ease paperwork for millions of tourists, the EU has proposed to make the Schengen visa process an online application system in the next few years. The Schengen visa allows travellers to visit and travel across 26 EU member nations for up to 90 days.\"]).toarray(), vect.transform([\"Suba aluth auwrudh dhak vewa. Puthandu vazhthukal. These are the Sinhalese and Tamil New Year greetings. ‘Aluth Avurudda’ is a festive day in Sri Lanka and I am wondering how I can recreate some elements of it being under the lockdown this year. The new year marks a new phase in the zodiac calendar with the sun moving from Meena (Pisces) to Mesha (Aries) in April.\"]).toarray())"
   ]
  },
  {
   "cell_type": "code",
   "execution_count": 17,
   "id": "e9b0fe51",
   "metadata": {},
   "outputs": [
    {
     "name": "stdout",
     "output_type": "stream",
     "text": [
      "[[0.11470787]]\n"
     ]
    }
   ],
   "source": [
    "print(similarity)"
   ]
  },
  {
   "cell_type": "code",
   "execution_count": 18,
   "id": "96070207",
   "metadata": {},
   "outputs": [],
   "source": [
    "article_corpus = [\"The period just after Independence saw the continuation of earlier debates on defining India as a secular, democratic nation with a national identity that included all Indians. We were no longer colonial subjects but were free citizens, and could claim the rights invested in citizenship and in accordance with our constitution.\"]"
   ]
  },
  {
   "cell_type": "code",
   "execution_count": 19,
   "id": "b349e89f",
   "metadata": {},
   "outputs": [
    {
     "data": {
      "text/plain": [
       "CountVectorizer(binary=True)"
      ]
     },
     "execution_count": 19,
     "metadata": {},
     "output_type": "execute_result"
    }
   ],
   "source": [
    "vect.fit(article_corpus)"
   ]
  },
  {
   "cell_type": "code",
   "execution_count": 20,
   "id": "34af744f",
   "metadata": {},
   "outputs": [
    {
     "name": "stdout",
     "output_type": "stream",
     "text": [
      "the : 39\n",
      "period : 33\n",
      "just : 25\n",
      "after : 1\n",
      "independence : 21\n",
      "saw : 35\n",
      "continuation : 11\n",
      "of : 30\n",
      "earlier : 16\n",
      "debates : 13\n",
      "on : 31\n",
      "defining : 14\n",
      "india : 22\n",
      "as : 4\n",
      "secular : 36\n",
      "democratic : 15\n",
      "nation : 27\n",
      "with : 42\n",
      "national : 28\n",
      "identity : 18\n",
      "that : 38\n",
      "included : 20\n",
      "all : 2\n",
      "indians : 23\n",
      "we : 40\n",
      "were : 41\n",
      "no : 29\n",
      "longer : 26\n",
      "colonial : 9\n",
      "subjects : 37\n",
      "but : 5\n",
      "free : 17\n",
      "citizens : 6\n",
      "and : 3\n",
      "could : 12\n",
      "claim : 8\n",
      "rights : 34\n",
      "invested : 24\n",
      "in : 19\n",
      "citizenship : 7\n",
      "accordance : 0\n",
      "our : 32\n",
      "constitution : 10\n"
     ]
    }
   ],
   "source": [
    "vocab = vect.vocabulary_\n",
    "for key in vocab.keys():\n",
    "    print(\"{} : {}\".format(key, vocab[key]))"
   ]
  },
  {
   "cell_type": "code",
   "execution_count": 25,
   "id": "cacaed3b",
   "metadata": {},
   "outputs": [],
   "source": [
    "from sklearn.metrics.pairwise import cosine_similarity\n",
    "similarity = cosine_similarity(vect.transform([\"When it comes to the geographical areas occupied by those who spoke Aryan languages, we have to erase modern boundaries and think more in terms of geomorphology. The initial geographical frame goes from north-eastern Iran, eastern Afghanistan, the borderlands to Punjab and the Doab. The spread from here is towards the Ganga plain, eventually continuing southwards as well, as far as the Vindhyas and later into the peninsula.\"]).toarray(), vect.transform([\"It goes back to the Naxalite movement of the late 1960s, which was organised by a break-off group of the Communist party and it worked among the peasants of Bengal. Peasants and tribals were mobilised. Those in the movement said that we disapprove of the current state and we would like to replace it with a better state that ensures social justice and the rights of citizens. The movement died down after a while in Bengal, and then came up again in a big way in Central India. It was essentially a village and tribal movement with some students who joined in. So, the term Urban Naxal for those that are urbanites is an oxymoron.\"]).toarray())"
   ]
  },
  {
   "cell_type": "code",
   "execution_count": 26,
   "id": "711efb8b",
   "metadata": {},
   "outputs": [
    {
     "name": "stdout",
     "output_type": "stream",
     "text": [
      "[[0.58925565]]\n"
     ]
    }
   ],
   "source": [
    "print(similarity)"
   ]
  },
  {
   "cell_type": "code",
   "execution_count": null,
   "id": "86548fa6",
   "metadata": {},
   "outputs": [],
   "source": []
  }
 ],
 "metadata": {
  "kernelspec": {
   "display_name": "Python 3 (ipykernel)",
   "language": "python",
   "name": "python3"
  },
  "language_info": {
   "codemirror_mode": {
    "name": "ipython",
    "version": 3
   },
   "file_extension": ".py",
   "mimetype": "text/x-python",
   "name": "python",
   "nbconvert_exporter": "python",
   "pygments_lexer": "ipython3",
   "version": "3.9.13"
  }
 },
 "nbformat": 4,
 "nbformat_minor": 5
}
